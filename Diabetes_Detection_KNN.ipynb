{
 "cells": [
  {
   "cell_type": "code",
   "execution_count": 1,
   "id": "editorial-preliminary",
   "metadata": {},
   "outputs": [],
   "source": [
    "import pandas as pd\n",
    "import numpy as np\n",
    "import matplotlib.pyplot as plt\n",
    "import seaborn as sns\n",
    "from sklearn.preprocessing import StandardScaler\n",
    "from sklearn.neighbors import KNeighborsClassifier\n",
    "from sklearn import model_selection"
   ]
  },
  {
   "cell_type": "markdown",
   "id": "weekly-wisdom",
   "metadata": {},
   "source": [
    "# Load The Data"
   ]
  },
  {
   "cell_type": "code",
   "execution_count": 2,
   "id": "fifteen-industry",
   "metadata": {},
   "outputs": [],
   "source": [
    "x_train = pd.read_csv('Diabetes_XTrain.csv')\n",
    "y_train = pd.read_csv('Diabetes_YTrain.csv')\n",
    "x_test = pd.read_csv('Diabetes_Xtest.csv')"
   ]
  },
  {
   "cell_type": "code",
   "execution_count": 3,
   "id": "hazardous-victoria",
   "metadata": {},
   "outputs": [
    {
     "name": "stdout",
     "output_type": "stream",
     "text": [
      "(576, 8) (576, 1)\n",
      "(192, 8)\n"
     ]
    }
   ],
   "source": [
    "print(x_train.shape , y_train.shape)\n",
    "print(x_test.shape)"
   ]
  },
  {
   "cell_type": "code",
   "execution_count": 4,
   "id": "departmental-showcase",
   "metadata": {},
   "outputs": [
    {
     "data": {
      "text/html": [
       "<div>\n",
       "<style scoped>\n",
       "    .dataframe tbody tr th:only-of-type {\n",
       "        vertical-align: middle;\n",
       "    }\n",
       "\n",
       "    .dataframe tbody tr th {\n",
       "        vertical-align: top;\n",
       "    }\n",
       "\n",
       "    .dataframe thead th {\n",
       "        text-align: right;\n",
       "    }\n",
       "</style>\n",
       "<table border=\"1\" class=\"dataframe\">\n",
       "  <thead>\n",
       "    <tr style=\"text-align: right;\">\n",
       "      <th></th>\n",
       "      <th>Pregnancies</th>\n",
       "      <th>Glucose</th>\n",
       "      <th>BloodPressure</th>\n",
       "      <th>SkinThickness</th>\n",
       "      <th>Insulin</th>\n",
       "      <th>BMI</th>\n",
       "      <th>DiabetesPedigreeFunction</th>\n",
       "      <th>Age</th>\n",
       "    </tr>\n",
       "  </thead>\n",
       "  <tbody>\n",
       "    <tr>\n",
       "      <th>0</th>\n",
       "      <td>7</td>\n",
       "      <td>168</td>\n",
       "      <td>88</td>\n",
       "      <td>42</td>\n",
       "      <td>321</td>\n",
       "      <td>38.2</td>\n",
       "      <td>0.787</td>\n",
       "      <td>40</td>\n",
       "    </tr>\n",
       "    <tr>\n",
       "      <th>1</th>\n",
       "      <td>8</td>\n",
       "      <td>110</td>\n",
       "      <td>76</td>\n",
       "      <td>0</td>\n",
       "      <td>0</td>\n",
       "      <td>27.8</td>\n",
       "      <td>0.237</td>\n",
       "      <td>58</td>\n",
       "    </tr>\n",
       "    <tr>\n",
       "      <th>2</th>\n",
       "      <td>7</td>\n",
       "      <td>147</td>\n",
       "      <td>76</td>\n",
       "      <td>0</td>\n",
       "      <td>0</td>\n",
       "      <td>39.4</td>\n",
       "      <td>0.257</td>\n",
       "      <td>43</td>\n",
       "    </tr>\n",
       "    <tr>\n",
       "      <th>3</th>\n",
       "      <td>2</td>\n",
       "      <td>100</td>\n",
       "      <td>66</td>\n",
       "      <td>20</td>\n",
       "      <td>90</td>\n",
       "      <td>32.9</td>\n",
       "      <td>0.867</td>\n",
       "      <td>28</td>\n",
       "    </tr>\n",
       "    <tr>\n",
       "      <th>4</th>\n",
       "      <td>4</td>\n",
       "      <td>129</td>\n",
       "      <td>86</td>\n",
       "      <td>20</td>\n",
       "      <td>270</td>\n",
       "      <td>35.1</td>\n",
       "      <td>0.231</td>\n",
       "      <td>23</td>\n",
       "    </tr>\n",
       "    <tr>\n",
       "      <th>5</th>\n",
       "      <td>7</td>\n",
       "      <td>100</td>\n",
       "      <td>0</td>\n",
       "      <td>0</td>\n",
       "      <td>0</td>\n",
       "      <td>30.0</td>\n",
       "      <td>0.484</td>\n",
       "      <td>32</td>\n",
       "    </tr>\n",
       "    <tr>\n",
       "      <th>6</th>\n",
       "      <td>4</td>\n",
       "      <td>110</td>\n",
       "      <td>66</td>\n",
       "      <td>0</td>\n",
       "      <td>0</td>\n",
       "      <td>31.9</td>\n",
       "      <td>0.471</td>\n",
       "      <td>29</td>\n",
       "    </tr>\n",
       "    <tr>\n",
       "      <th>7</th>\n",
       "      <td>1</td>\n",
       "      <td>111</td>\n",
       "      <td>86</td>\n",
       "      <td>19</td>\n",
       "      <td>0</td>\n",
       "      <td>30.1</td>\n",
       "      <td>0.143</td>\n",
       "      <td>23</td>\n",
       "    </tr>\n",
       "    <tr>\n",
       "      <th>8</th>\n",
       "      <td>3</td>\n",
       "      <td>169</td>\n",
       "      <td>74</td>\n",
       "      <td>19</td>\n",
       "      <td>125</td>\n",
       "      <td>29.9</td>\n",
       "      <td>0.268</td>\n",
       "      <td>31</td>\n",
       "    </tr>\n",
       "    <tr>\n",
       "      <th>9</th>\n",
       "      <td>1</td>\n",
       "      <td>71</td>\n",
       "      <td>62</td>\n",
       "      <td>0</td>\n",
       "      <td>0</td>\n",
       "      <td>21.8</td>\n",
       "      <td>0.416</td>\n",
       "      <td>26</td>\n",
       "    </tr>\n",
       "  </tbody>\n",
       "</table>\n",
       "</div>"
      ],
      "text/plain": [
       "   Pregnancies  Glucose  BloodPressure  SkinThickness  Insulin   BMI  \\\n",
       "0            7      168             88             42      321  38.2   \n",
       "1            8      110             76              0        0  27.8   \n",
       "2            7      147             76              0        0  39.4   \n",
       "3            2      100             66             20       90  32.9   \n",
       "4            4      129             86             20      270  35.1   \n",
       "5            7      100              0              0        0  30.0   \n",
       "6            4      110             66              0        0  31.9   \n",
       "7            1      111             86             19        0  30.1   \n",
       "8            3      169             74             19      125  29.9   \n",
       "9            1       71             62              0        0  21.8   \n",
       "\n",
       "   DiabetesPedigreeFunction  Age  \n",
       "0                     0.787   40  \n",
       "1                     0.237   58  \n",
       "2                     0.257   43  \n",
       "3                     0.867   28  \n",
       "4                     0.231   23  \n",
       "5                     0.484   32  \n",
       "6                     0.471   29  \n",
       "7                     0.143   23  \n",
       "8                     0.268   31  \n",
       "9                     0.416   26  "
      ]
     },
     "execution_count": 4,
     "metadata": {},
     "output_type": "execute_result"
    }
   ],
   "source": [
    "x_train.head(10)"
   ]
  },
  {
   "cell_type": "code",
   "execution_count": 5,
   "id": "killing-laundry",
   "metadata": {},
   "outputs": [
    {
     "data": {
      "text/html": [
       "<div>\n",
       "<style scoped>\n",
       "    .dataframe tbody tr th:only-of-type {\n",
       "        vertical-align: middle;\n",
       "    }\n",
       "\n",
       "    .dataframe tbody tr th {\n",
       "        vertical-align: top;\n",
       "    }\n",
       "\n",
       "    .dataframe thead th {\n",
       "        text-align: right;\n",
       "    }\n",
       "</style>\n",
       "<table border=\"1\" class=\"dataframe\">\n",
       "  <thead>\n",
       "    <tr style=\"text-align: right;\">\n",
       "      <th></th>\n",
       "      <th>Outcome</th>\n",
       "    </tr>\n",
       "  </thead>\n",
       "  <tbody>\n",
       "    <tr>\n",
       "      <th>0</th>\n",
       "      <td>1</td>\n",
       "    </tr>\n",
       "    <tr>\n",
       "      <th>1</th>\n",
       "      <td>0</td>\n",
       "    </tr>\n",
       "    <tr>\n",
       "      <th>2</th>\n",
       "      <td>1</td>\n",
       "    </tr>\n",
       "    <tr>\n",
       "      <th>3</th>\n",
       "      <td>1</td>\n",
       "    </tr>\n",
       "    <tr>\n",
       "      <th>4</th>\n",
       "      <td>0</td>\n",
       "    </tr>\n",
       "    <tr>\n",
       "      <th>5</th>\n",
       "      <td>1</td>\n",
       "    </tr>\n",
       "    <tr>\n",
       "      <th>6</th>\n",
       "      <td>0</td>\n",
       "    </tr>\n",
       "    <tr>\n",
       "      <th>7</th>\n",
       "      <td>0</td>\n",
       "    </tr>\n",
       "    <tr>\n",
       "      <th>8</th>\n",
       "      <td>1</td>\n",
       "    </tr>\n",
       "    <tr>\n",
       "      <th>9</th>\n",
       "      <td>0</td>\n",
       "    </tr>\n",
       "  </tbody>\n",
       "</table>\n",
       "</div>"
      ],
      "text/plain": [
       "   Outcome\n",
       "0        1\n",
       "1        0\n",
       "2        1\n",
       "3        1\n",
       "4        0\n",
       "5        1\n",
       "6        0\n",
       "7        0\n",
       "8        1\n",
       "9        0"
      ]
     },
     "execution_count": 5,
     "metadata": {},
     "output_type": "execute_result"
    }
   ],
   "source": [
    "y_train.head(10)"
   ]
  },
  {
   "cell_type": "code",
   "execution_count": 6,
   "id": "center-stationery",
   "metadata": {},
   "outputs": [
    {
     "name": "stdout",
     "output_type": "stream",
     "text": [
      "Index(['Pregnancies', 'Glucose', 'BloodPressure', 'SkinThickness', 'Insulin',\n",
      "       'BMI', 'DiabetesPedigreeFunction', 'Age'],\n",
      "      dtype='object')\n"
     ]
    }
   ],
   "source": [
    "features = x_train.columns\n",
    "print(features)"
   ]
  },
  {
   "cell_type": "code",
   "execution_count": 7,
   "id": "aquatic-oregon",
   "metadata": {},
   "outputs": [
    {
     "name": "stdout",
     "output_type": "stream",
     "text": [
      "<class 'pandas.core.frame.DataFrame'>\n",
      "RangeIndex: 576 entries, 0 to 575\n",
      "Data columns (total 8 columns):\n",
      " #   Column                    Non-Null Count  Dtype  \n",
      "---  ------                    --------------  -----  \n",
      " 0   Pregnancies               576 non-null    int64  \n",
      " 1   Glucose                   576 non-null    int64  \n",
      " 2   BloodPressure             576 non-null    int64  \n",
      " 3   SkinThickness             576 non-null    int64  \n",
      " 4   Insulin                   576 non-null    int64  \n",
      " 5   BMI                       576 non-null    float64\n",
      " 6   DiabetesPedigreeFunction  576 non-null    float64\n",
      " 7   Age                       576 non-null    int64  \n",
      "dtypes: float64(2), int64(6)\n",
      "memory usage: 36.1 KB\n"
     ]
    }
   ],
   "source": [
    "x_train.info()"
   ]
  },
  {
   "cell_type": "code",
   "execution_count": 8,
   "id": "aboriginal-tribute",
   "metadata": {},
   "outputs": [
    {
     "data": {
      "text/html": [
       "<div>\n",
       "<style scoped>\n",
       "    .dataframe tbody tr th:only-of-type {\n",
       "        vertical-align: middle;\n",
       "    }\n",
       "\n",
       "    .dataframe tbody tr th {\n",
       "        vertical-align: top;\n",
       "    }\n",
       "\n",
       "    .dataframe thead th {\n",
       "        text-align: right;\n",
       "    }\n",
       "</style>\n",
       "<table border=\"1\" class=\"dataframe\">\n",
       "  <thead>\n",
       "    <tr style=\"text-align: right;\">\n",
       "      <th></th>\n",
       "      <th>Pregnancies</th>\n",
       "      <th>Glucose</th>\n",
       "      <th>BloodPressure</th>\n",
       "      <th>SkinThickness</th>\n",
       "      <th>Insulin</th>\n",
       "      <th>BMI</th>\n",
       "      <th>DiabetesPedigreeFunction</th>\n",
       "      <th>Age</th>\n",
       "    </tr>\n",
       "  </thead>\n",
       "  <tbody>\n",
       "    <tr>\n",
       "      <th>count</th>\n",
       "      <td>576.000000</td>\n",
       "      <td>576.000000</td>\n",
       "      <td>576.000000</td>\n",
       "      <td>576.000000</td>\n",
       "      <td>576.000000</td>\n",
       "      <td>576.000000</td>\n",
       "      <td>576.000000</td>\n",
       "      <td>576.000000</td>\n",
       "    </tr>\n",
       "    <tr>\n",
       "      <th>mean</th>\n",
       "      <td>3.758681</td>\n",
       "      <td>119.975694</td>\n",
       "      <td>68.826389</td>\n",
       "      <td>20.364583</td>\n",
       "      <td>76.166667</td>\n",
       "      <td>31.857292</td>\n",
       "      <td>0.481519</td>\n",
       "      <td>32.954861</td>\n",
       "    </tr>\n",
       "    <tr>\n",
       "      <th>std</th>\n",
       "      <td>3.328783</td>\n",
       "      <td>31.512914</td>\n",
       "      <td>20.285812</td>\n",
       "      <td>15.893856</td>\n",
       "      <td>109.193550</td>\n",
       "      <td>8.134926</td>\n",
       "      <td>0.336910</td>\n",
       "      <td>11.878137</td>\n",
       "    </tr>\n",
       "    <tr>\n",
       "      <th>min</th>\n",
       "      <td>0.000000</td>\n",
       "      <td>0.000000</td>\n",
       "      <td>0.000000</td>\n",
       "      <td>0.000000</td>\n",
       "      <td>0.000000</td>\n",
       "      <td>0.000000</td>\n",
       "      <td>0.078000</td>\n",
       "      <td>21.000000</td>\n",
       "    </tr>\n",
       "    <tr>\n",
       "      <th>25%</th>\n",
       "      <td>1.000000</td>\n",
       "      <td>99.000000</td>\n",
       "      <td>62.000000</td>\n",
       "      <td>0.000000</td>\n",
       "      <td>0.000000</td>\n",
       "      <td>26.975000</td>\n",
       "      <td>0.247750</td>\n",
       "      <td>24.000000</td>\n",
       "    </tr>\n",
       "    <tr>\n",
       "      <th>50%</th>\n",
       "      <td>3.000000</td>\n",
       "      <td>116.000000</td>\n",
       "      <td>72.000000</td>\n",
       "      <td>22.000000</td>\n",
       "      <td>36.000000</td>\n",
       "      <td>32.000000</td>\n",
       "      <td>0.381500</td>\n",
       "      <td>29.000000</td>\n",
       "    </tr>\n",
       "    <tr>\n",
       "      <th>75%</th>\n",
       "      <td>6.000000</td>\n",
       "      <td>139.000000</td>\n",
       "      <td>80.000000</td>\n",
       "      <td>32.000000</td>\n",
       "      <td>120.000000</td>\n",
       "      <td>36.725000</td>\n",
       "      <td>0.641250</td>\n",
       "      <td>40.000000</td>\n",
       "    </tr>\n",
       "    <tr>\n",
       "      <th>max</th>\n",
       "      <td>17.000000</td>\n",
       "      <td>199.000000</td>\n",
       "      <td>122.000000</td>\n",
       "      <td>63.000000</td>\n",
       "      <td>744.000000</td>\n",
       "      <td>67.100000</td>\n",
       "      <td>2.420000</td>\n",
       "      <td>81.000000</td>\n",
       "    </tr>\n",
       "  </tbody>\n",
       "</table>\n",
       "</div>"
      ],
      "text/plain": [
       "       Pregnancies     Glucose  BloodPressure  SkinThickness     Insulin  \\\n",
       "count   576.000000  576.000000     576.000000     576.000000  576.000000   \n",
       "mean      3.758681  119.975694      68.826389      20.364583   76.166667   \n",
       "std       3.328783   31.512914      20.285812      15.893856  109.193550   \n",
       "min       0.000000    0.000000       0.000000       0.000000    0.000000   \n",
       "25%       1.000000   99.000000      62.000000       0.000000    0.000000   \n",
       "50%       3.000000  116.000000      72.000000      22.000000   36.000000   \n",
       "75%       6.000000  139.000000      80.000000      32.000000  120.000000   \n",
       "max      17.000000  199.000000     122.000000      63.000000  744.000000   \n",
       "\n",
       "              BMI  DiabetesPedigreeFunction         Age  \n",
       "count  576.000000                576.000000  576.000000  \n",
       "mean    31.857292                  0.481519   32.954861  \n",
       "std      8.134926                  0.336910   11.878137  \n",
       "min      0.000000                  0.078000   21.000000  \n",
       "25%     26.975000                  0.247750   24.000000  \n",
       "50%     32.000000                  0.381500   29.000000  \n",
       "75%     36.725000                  0.641250   40.000000  \n",
       "max     67.100000                  2.420000   81.000000  "
      ]
     },
     "execution_count": 8,
     "metadata": {},
     "output_type": "execute_result"
    }
   ],
   "source": [
    "x_train.describe()"
   ]
  },
  {
   "cell_type": "code",
   "execution_count": 9,
   "id": "incorrect-weight",
   "metadata": {},
   "outputs": [
    {
     "data": {
      "text/html": [
       "<div>\n",
       "<style scoped>\n",
       "    .dataframe tbody tr th:only-of-type {\n",
       "        vertical-align: middle;\n",
       "    }\n",
       "\n",
       "    .dataframe tbody tr th {\n",
       "        vertical-align: top;\n",
       "    }\n",
       "\n",
       "    .dataframe thead th {\n",
       "        text-align: right;\n",
       "    }\n",
       "</style>\n",
       "<table border=\"1\" class=\"dataframe\">\n",
       "  <thead>\n",
       "    <tr style=\"text-align: right;\">\n",
       "      <th></th>\n",
       "      <th>Pregnancies</th>\n",
       "      <th>Glucose</th>\n",
       "      <th>BloodPressure</th>\n",
       "      <th>SkinThickness</th>\n",
       "      <th>Insulin</th>\n",
       "      <th>BMI</th>\n",
       "      <th>DiabetesPedigreeFunction</th>\n",
       "      <th>Age</th>\n",
       "    </tr>\n",
       "  </thead>\n",
       "  <tbody>\n",
       "    <tr>\n",
       "      <th>Pregnancies</th>\n",
       "      <td>1.000000</td>\n",
       "      <td>0.175781</td>\n",
       "      <td>0.159623</td>\n",
       "      <td>-0.089059</td>\n",
       "      <td>-0.059903</td>\n",
       "      <td>0.043933</td>\n",
       "      <td>-0.036454</td>\n",
       "      <td>0.555994</td>\n",
       "    </tr>\n",
       "    <tr>\n",
       "      <th>Glucose</th>\n",
       "      <td>0.175781</td>\n",
       "      <td>1.000000</td>\n",
       "      <td>0.151899</td>\n",
       "      <td>0.035213</td>\n",
       "      <td>0.332527</td>\n",
       "      <td>0.213883</td>\n",
       "      <td>0.151490</td>\n",
       "      <td>0.261131</td>\n",
       "    </tr>\n",
       "    <tr>\n",
       "      <th>BloodPressure</th>\n",
       "      <td>0.159623</td>\n",
       "      <td>0.151899</td>\n",
       "      <td>1.000000</td>\n",
       "      <td>0.235094</td>\n",
       "      <td>0.102192</td>\n",
       "      <td>0.272952</td>\n",
       "      <td>0.031765</td>\n",
       "      <td>0.254055</td>\n",
       "    </tr>\n",
       "    <tr>\n",
       "      <th>SkinThickness</th>\n",
       "      <td>-0.089059</td>\n",
       "      <td>0.035213</td>\n",
       "      <td>0.235094</td>\n",
       "      <td>1.000000</td>\n",
       "      <td>0.456451</td>\n",
       "      <td>0.403305</td>\n",
       "      <td>0.179001</td>\n",
       "      <td>-0.115892</td>\n",
       "    </tr>\n",
       "    <tr>\n",
       "      <th>Insulin</th>\n",
       "      <td>-0.059903</td>\n",
       "      <td>0.332527</td>\n",
       "      <td>0.102192</td>\n",
       "      <td>0.456451</td>\n",
       "      <td>1.000000</td>\n",
       "      <td>0.183658</td>\n",
       "      <td>0.222323</td>\n",
       "      <td>-0.049814</td>\n",
       "    </tr>\n",
       "    <tr>\n",
       "      <th>BMI</th>\n",
       "      <td>0.043933</td>\n",
       "      <td>0.213883</td>\n",
       "      <td>0.272952</td>\n",
       "      <td>0.403305</td>\n",
       "      <td>0.183658</td>\n",
       "      <td>1.000000</td>\n",
       "      <td>0.143271</td>\n",
       "      <td>0.051957</td>\n",
       "    </tr>\n",
       "    <tr>\n",
       "      <th>DiabetesPedigreeFunction</th>\n",
       "      <td>-0.036454</td>\n",
       "      <td>0.151490</td>\n",
       "      <td>0.031765</td>\n",
       "      <td>0.179001</td>\n",
       "      <td>0.222323</td>\n",
       "      <td>0.143271</td>\n",
       "      <td>1.000000</td>\n",
       "      <td>0.034847</td>\n",
       "    </tr>\n",
       "    <tr>\n",
       "      <th>Age</th>\n",
       "      <td>0.555994</td>\n",
       "      <td>0.261131</td>\n",
       "      <td>0.254055</td>\n",
       "      <td>-0.115892</td>\n",
       "      <td>-0.049814</td>\n",
       "      <td>0.051957</td>\n",
       "      <td>0.034847</td>\n",
       "      <td>1.000000</td>\n",
       "    </tr>\n",
       "  </tbody>\n",
       "</table>\n",
       "</div>"
      ],
      "text/plain": [
       "                          Pregnancies   Glucose  BloodPressure  SkinThickness  \\\n",
       "Pregnancies                  1.000000  0.175781       0.159623      -0.089059   \n",
       "Glucose                      0.175781  1.000000       0.151899       0.035213   \n",
       "BloodPressure                0.159623  0.151899       1.000000       0.235094   \n",
       "SkinThickness               -0.089059  0.035213       0.235094       1.000000   \n",
       "Insulin                     -0.059903  0.332527       0.102192       0.456451   \n",
       "BMI                          0.043933  0.213883       0.272952       0.403305   \n",
       "DiabetesPedigreeFunction    -0.036454  0.151490       0.031765       0.179001   \n",
       "Age                          0.555994  0.261131       0.254055      -0.115892   \n",
       "\n",
       "                           Insulin       BMI  DiabetesPedigreeFunction  \\\n",
       "Pregnancies              -0.059903  0.043933                 -0.036454   \n",
       "Glucose                   0.332527  0.213883                  0.151490   \n",
       "BloodPressure             0.102192  0.272952                  0.031765   \n",
       "SkinThickness             0.456451  0.403305                  0.179001   \n",
       "Insulin                   1.000000  0.183658                  0.222323   \n",
       "BMI                       0.183658  1.000000                  0.143271   \n",
       "DiabetesPedigreeFunction  0.222323  0.143271                  1.000000   \n",
       "Age                      -0.049814  0.051957                  0.034847   \n",
       "\n",
       "                               Age  \n",
       "Pregnancies               0.555994  \n",
       "Glucose                   0.261131  \n",
       "BloodPressure             0.254055  \n",
       "SkinThickness            -0.115892  \n",
       "Insulin                  -0.049814  \n",
       "BMI                       0.051957  \n",
       "DiabetesPedigreeFunction  0.034847  \n",
       "Age                       1.000000  "
      ]
     },
     "execution_count": 9,
     "metadata": {},
     "output_type": "execute_result"
    }
   ],
   "source": [
    "corr = x_train.corr()\n",
    "corr"
   ]
  },
  {
   "cell_type": "code",
   "execution_count": 10,
   "id": "armed-architecture",
   "metadata": {},
   "outputs": [
    {
     "data": {
      "text/plain": [
       "<AxesSubplot:>"
      ]
     },
     "execution_count": 10,
     "metadata": {},
     "output_type": "execute_result"
    },
    {
     "data": {
      "image/png": "[encoded data removed]",
      "text/plain": [
       "<Figure size 1080x720 with 2 Axes>"
      ]
     },
     "metadata": {
      "needs_background": "light"
     },
     "output_type": "display_data"
    }
   ],
   "source": [
    "plt.figure(figsize=(15, 10))\n",
    "sns.heatmap(corr, annot= True)"
   ]
  },
  {
   "cell_type": "markdown",
   "id": "beginning-hammer",
   "metadata": {},
   "source": [
    "## We cam see in heatmap that every feature in not much correlated with each other, so there is no need to feature selectin using pearson correlation plus every feature is distinct so there is also no need to do variance threshold"
   ]
  },
  {
   "cell_type": "code",
   "execution_count": 11,
   "id": "nuclear-henry",
   "metadata": {},
   "outputs": [
    {
     "data": {
      "text/plain": [
       "<AxesSubplot:xlabel='Pregnancies', ylabel='count'>"
      ]
     },
     "execution_count": 11,
     "metadata": {},
     "output_type": "execute_result"
    },
    {
     "data": {
      "image/png": "[encoded data removed]",
      "text/plain": [
       "<Figure size 504x360 with 1 Axes>"
      ]
     },
     "metadata": {
      "needs_background": "light"
     },
     "output_type": "display_data"
    }
   ],
   "source": [
    "plt.figure(figsize = (7,5))\n",
    "plt.style.use('seaborn')\n",
    "sns.countplot(x = 'Pregnancies' , data = x_train )"
   ]
  },
  {
   "cell_type": "code",
   "execution_count": 12,
   "id": "hollow-contents",
   "metadata": {},
   "outputs": [
    {
     "data": {
      "text/plain": [
       "<AxesSubplot:xlabel='Age', ylabel='Count'>"
      ]
     },
     "execution_count": 12,
     "metadata": {},
     "output_type": "execute_result"
    },
    {
     "data": {
      "image/png": "[encoded data removed]",
      "text/plain": [
       "<Figure size 576x396 with 1 Axes>"
      ]
     },
     "metadata": {},
     "output_type": "display_data"
    }
   ],
   "source": [
    "sns.histplot(data=x_train, x=\"Age\" )"
   ]
  },
  {
   "cell_type": "code",
   "execution_count": null,
   "id": "present-lingerie",
   "metadata": {},
   "outputs": [],
   "source": []
  },
  {
   "cell_type": "code",
   "execution_count": null,
   "id": "happy-arnold",
   "metadata": {},
   "outputs": [],
   "source": []
  },
  {
   "cell_type": "markdown",
   "id": "nominated-validity",
   "metadata": {},
   "source": [
    "# Normalisation of the Data"
   ]
  },
  {
   "cell_type": "code",
   "execution_count": 13,
   "id": "specialized-webster",
   "metadata": {},
   "outputs": [],
   "source": [
    "x_train_mean = np.mean(x_train , axis = 0)\n",
    "x_train_std = np.std(x_train , axis = 0)\n",
    "x_test_mean = np.mean(x_test , axis = 0)\n",
    "x_test_std = np.std(x_test , axis = 0)"
   ]
  },
  {
   "cell_type": "code",
   "execution_count": 14,
   "id": "affiliated-threshold",
   "metadata": {},
   "outputs": [],
   "source": [
    "x_train = (x_train - x_train_mean) / x_train_std"
   ]
  },
  {
   "cell_type": "code",
   "execution_count": 15,
   "id": "accepted-watts",
   "metadata": {},
   "outputs": [],
   "source": [
    "x_test = (x_test - x_test_mean) / x_test_std"
   ]
  },
  {
   "cell_type": "markdown",
   "id": "persistent-texture",
   "metadata": {},
   "source": [
    "# Using KNN algorith for classification of Diabetes"
   ]
  },
  {
   "cell_type": "code",
   "execution_count": 16,
   "id": "applied-knowing",
   "metadata": {},
   "outputs": [],
   "source": [
    "def dist(x1 , x2):\n",
    "    return np.sqrt(np.sum((x1 - x2)**2))"
   ]
  },
  {
   "cell_type": "code",
   "execution_count": 17,
   "id": "civilian-admission",
   "metadata": {},
   "outputs": [],
   "source": [
    "def knn(x ,y , query , k = 10):\n",
    "    val = []\n",
    "    m = x.shape[0]\n",
    "    for i in range(m):\n",
    "        d = dist(query , x.values[i])\n",
    "        val.append((d , y.values[i]))\n",
    "    val = sorted(val)\n",
    "    val = val[:k]\n",
    "    val = np.array(val)\n",
    "    freq = np.unique(val[:, 1] , return_counts=True)\n",
    "    index = freq[1].argmax()\n",
    "    pred = freq[0][index]\n",
    "    return pred"
   ]
  },
  {
   "cell_type": "code",
   "execution_count": 18,
   "id": "confused-namibia",
   "metadata": {},
   "outputs": [],
   "source": [
    "def prediction(x_train , y_train , x_test):\n",
    "    y_predict = []\n",
    "    for i in range(len(x_test)):\n",
    "        pred = knn(x_train , y_train , x_test.values[i] )\n",
    "        y_predict.append(pred[0])\n",
    "    return y_predict"
   ]
  },
  {
   "cell_type": "code",
   "execution_count": 19,
   "id": "experimental-nudist",
   "metadata": {},
   "outputs": [],
   "source": [
    "def accuracy(x_train , y_train , x_test ):\n",
    "    y_pred = prediction(x_train , y_train , x_train)\n",
    "    y_pred = np.array(y_pred).reshape(-1,1)\n",
    "    \n",
    "    \n",
    "    y_train = np.array(y_train).reshape(-1, 1)\n",
    "    accu = np.mean(y_train == y_pred)\n",
    "    return accu"
   ]
  },
  {
   "cell_type": "code",
   "execution_count": 20,
   "id": "behavioral-vancouver",
   "metadata": {},
   "outputs": [
    {
     "name": "stderr",
     "output_type": "stream",
     "text": [
      "<ipython-input-17-153c1049ac08>:9: VisibleDeprecationWarning: Creating an ndarray from ragged nested sequences (which is a list-or-tuple of lists-or-tuples-or ndarrays with different lengths or shapes) is deprecated. If you meant to do this, you must specify 'dtype=object' when creating the ndarray\n",
      "  val = np.array(val)\n"
     ]
    },
    {
     "data": {
      "text/plain": [
       "0.7673611111111112"
      ]
     },
     "execution_count": 20,
     "metadata": {},
     "output_type": "execute_result"
    }
   ],
   "source": [
    "accuracy(x_train , y_train , x_test )"
   ]
  },
  {
   "cell_type": "markdown",
   "id": "proof-scotland",
   "metadata": {},
   "source": [
    "# Using sklearn Library"
   ]
  },
  {
   "cell_type": "code",
   "execution_count": 21,
   "id": "approximate-hazard",
   "metadata": {},
   "outputs": [],
   "source": [
    "# x_train = np.array(x_train)\n",
    "# y_train = np.array(y_train)\n",
    "# y_train.reshape(576, )\n",
    "# x_test = np.array(x_test)\n"
   ]
  },
  {
   "cell_type": "code",
   "execution_count": 22,
   "id": "assured-google",
   "metadata": {},
   "outputs": [],
   "source": [
    "new_knn = KNeighborsClassifier(n_neighbors=1)\n",
    "new_knn.fit(x_train , y_train.values.ravel())\n",
    "y_predi = new_knn.predict(x_test)"
   ]
  },
  {
   "cell_type": "code",
   "execution_count": 23,
   "id": "vocational-bangkok",
   "metadata": {},
   "outputs": [
    {
     "data": {
      "text/plain": [
       "array([1, 0, 0, 0, 0, 1, 0, 0, 0, 0, 1, 0, 1, 0, 1, 0, 0, 0, 0, 0, 0, 0,\n",
       "       0, 0, 0, 0, 0, 1, 0, 1, 1, 0, 1, 0, 0, 0, 0, 1, 0, 0, 0, 0, 0, 0,\n",
       "       1, 0, 0, 0, 0, 1, 0, 1, 1, 0, 1, 1, 1, 0, 0, 1, 1, 0, 0, 0, 1, 0,\n",
       "       0, 0, 0, 0, 0, 0, 0, 0, 0, 0, 0, 0, 0, 0, 0, 1, 0, 0, 0, 0, 0, 1,\n",
       "       0, 0, 0, 1, 0, 0, 1, 0, 1, 0, 0, 0, 1, 0, 0, 0, 1, 0, 1, 1, 0, 1,\n",
       "       1, 0, 1, 0, 0, 1, 0, 1, 0, 0, 1, 0, 1, 0, 0, 0, 0, 0, 0, 0, 0, 1,\n",
       "       0, 0, 0, 0, 1, 0, 1, 0, 1, 1, 0, 1, 1, 0, 0, 0, 0, 1, 0, 0, 1, 1,\n",
       "       0, 1, 1, 1, 0, 1, 0, 0, 0, 0, 0, 0, 0, 0, 1, 0, 0, 1, 0, 0, 1, 0,\n",
       "       0, 0, 1, 1, 0, 0, 0, 1, 0, 1, 0, 0, 1, 1, 0, 0], dtype=int64)"
      ]
     },
     "execution_count": 23,
     "metadata": {},
     "output_type": "execute_result"
    }
   ],
   "source": [
    "y_predi"
   ]
  },
  {
   "cell_type": "code",
   "execution_count": 24,
   "id": "regulation-nursery",
   "metadata": {},
   "outputs": [
    {
     "name": "stderr",
     "output_type": "stream",
     "text": [
      "<ipython-input-17-153c1049ac08>:9: VisibleDeprecationWarning: Creating an ndarray from ragged nested sequences (which is a list-or-tuple of lists-or-tuples-or ndarrays with different lengths or shapes) is deprecated. If you meant to do this, you must specify 'dtype=object' when creating the ndarray\n",
      "  val = np.array(val)\n"
     ]
    }
   ],
   "source": [
    "y_pred = prediction(x_train , y_train , x_test)"
   ]
  },
  {
   "cell_type": "code",
   "execution_count": null,
   "id": "horizontal-vacuum",
   "metadata": {},
   "outputs": [],
   "source": []
  },
  {
   "cell_type": "code",
   "execution_count": null,
   "id": "about-publicity",
   "metadata": {},
   "outputs": [],
   "source": []
  },
  {
   "cell_type": "code",
   "execution_count": null,
   "id": "incomplete-constraint",
   "metadata": {},
   "outputs": [],
   "source": []
  },
  {
   "cell_type": "code",
   "execution_count": null,
   "id": "therapeutic-architect",
   "metadata": {},
   "outputs": [],
   "source": []
  },
  {
   "cell_type": "code",
   "execution_count": null,
   "id": "sensitive-customer",
   "metadata": {},
   "outputs": [],
   "source": []
  }
 ],
 "metadata": {
  "kernelspec": {
   "display_name": "Python 3",
   "language": "python",
   "name": "python3"
  },
  "language_info": {
   "codemirror_mode": {
    "name": "ipython",
    "version": 3
   },
   "file_extension": ".py",
   "mimetype": "text/x-python",
   "name": "python",
   "nbconvert_exporter": "python",
   "pygments_lexer": "ipython3",
   "version": "3.9.1"
  }
 },
 "nbformat": 4,
 "nbformat_minor": 5
}
